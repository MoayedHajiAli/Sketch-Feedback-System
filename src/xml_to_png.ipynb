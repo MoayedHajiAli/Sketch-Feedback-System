{
 "cells": [
  {
   "cell_type": "code",
   "execution_count": 156,
   "metadata": {},
   "outputs": [],
   "source": [
    "import pandas as pd\n",
    "from xml.dom import minidom\n",
    "import drawSvg as draw\n",
    "import matplotlib.pyplot as plt\n",
    "import numpy as np\n",
    "import scipy.io\n",
    "import os\n",
    "import pathlib"
   ]
  },
  {
   "cell_type": "code",
   "execution_count": 166,
   "metadata": {},
   "outputs": [],
   "source": [
    "class Convertor():\n",
    "    def convert(self, file, loc, padding = 50):\n",
    "        data = minidom.parse(file)\n",
    "        points = data.getElementsByTagName('point')\n",
    "        strokes = data.getElementsByTagName('stroke')\n",
    "        \n",
    "        # creat dictionary for id -> point\n",
    "        point_dic = {}\n",
    "        axis = [1e6, 0, 1e6, 0]\n",
    "        for el in points:\n",
    "            x = el.attributes['x'].value\n",
    "            axis[0] = min(axis[0],int(x))\n",
    "            axis[1] = max(axis[1],int(x))\n",
    "            y = el.attributes['y'].value\n",
    "            axis[2] = min(axis[2],int(y))\n",
    "            axis[3] = max(axis[3],int(y))\n",
    "            time = el.attributes['time'].value\n",
    "            point_dic[el.attributes['id'].value] = (x ,y , time);\n",
    "        axis = [axis[0]-padding, axis[1]+padding, axis[2]-padding, axis[3]+padding]\n",
    "        plt.axis(axis)\n",
    "        \n",
    "        # extract strokes\n",
    "        for st in strokes:\n",
    "            pts = st.getElementsByTagName('arg')\n",
    "            x = [int(point_dic[pt.firstChild.nodeValue][0]) for pt in pts]\n",
    "            y = [int(point_dic[pt.firstChild.nodeValue][1]) for pt in pts]\n",
    "            plt.axis(axis)\n",
    "            plt.plot(x,y)\n",
    "        \n",
    "        #save image\n",
    "        plt.savefig(loc)\n",
    "        plt.close()\n",
    "        \n",
    "    \n",
    "    def explore(self, directory, save):\n",
    "        if not os.path.exists(save):\n",
    "            os.mkdir(save)\n",
    "        for path in pathlib.Path(directory).iterdir():\n",
    "            if path.is_dir() and str(path) != save:\n",
    "                folder = os.path.basename(path)\n",
    "                self.explore(path, os.path.join(save, folder))\n",
    "            elif path.is_file():\n",
    "                file = os.path.basename(path)\n",
    "                if file.endswith(\".xml\"):\n",
    "                    #print(os.path.join(save, str(file[:-4] + '.png')))\n",
    "                    dis = str(os.path.join(save, file[:-4]))\n",
    "                    if dis != \"\": \n",
    "                        try:\n",
    "                            self.convert(str(path), dis)\n",
    "                        except:\n",
    "                            print(\"could not convert file\" + file)\n",
    "                        "
   ]
  },
  {
   "cell_type": "code",
   "execution_count": 167,
   "metadata": {},
   "outputs": [
    {
     "name": "stdout",
     "output_type": "stream",
     "text": [
      "could not convert file11_4aad22e3-4075-4871-b5e5-30c933078a31.xml\n"
     ]
    }
   ],
   "source": [
    "conv = Convertor()\n",
    "directory = \"../ASIST_Dataset/Data/Data_A\"\n",
    "save = os.path.join(directory + \"/images\")\n",
    "conv.explore(directory, save)"
   ]
  },
  {
   "cell_type": "code",
   "execution_count": null,
   "metadata": {},
   "outputs": [],
   "source": []
  }
 ],
 "metadata": {
  "kernelspec": {
   "display_name": "Python 3",
   "language": "python",
   "name": "python3"
  },
  "language_info": {
   "codemirror_mode": {
    "name": "ipython",
    "version": 3
   },
   "file_extension": ".py",
   "mimetype": "text/x-python",
   "name": "python",
   "nbconvert_exporter": "python",
   "pygments_lexer": "ipython3",
   "version": "3.7.7"
  }
 },
 "nbformat": 4,
 "nbformat_minor": 4
}
